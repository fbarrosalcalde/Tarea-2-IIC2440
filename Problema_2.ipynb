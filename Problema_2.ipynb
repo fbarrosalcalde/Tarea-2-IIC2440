{
  "nbformat": 4,
  "nbformat_minor": 0,
  "metadata": {
    "colab": {
      "provenance": []
    },
    "kernelspec": {
      "name": "python3",
      "display_name": "Python 3"
    },
    "language_info": {
      "name": "python"
    }
  },
  "cells": [
    {
      "cell_type": "markdown",
      "source": [
        "# Problema 2"
      ],
      "metadata": {
        "id": "06g1apr4oUGn"
      }
    },
    {
      "cell_type": "code",
      "source": [
        "!pip install pyspark"
      ],
      "metadata": {
        "colab": {
          "base_uri": "https://localhost:8080/"
        },
        "id": "jFBZqDtVtYzQ",
        "outputId": "7900f6f4-3679-4e46-9524-77b760f58746"
      },
      "execution_count": 1,
      "outputs": [
        {
          "output_type": "stream",
          "name": "stdout",
          "text": [
            "Collecting pyspark\n",
            "  Downloading pyspark-3.4.1.tar.gz (310.8 MB)\n",
            "\u001b[2K     \u001b[90m━━━━━━━━━━━━━━━━━━━━━━━━━━━━━━━━━━━━━━━\u001b[0m \u001b[32m310.8/310.8 MB\u001b[0m \u001b[31m4.3 MB/s\u001b[0m eta \u001b[36m0:00:00\u001b[0m\n",
            "\u001b[?25h  Preparing metadata (setup.py) ... \u001b[?25l\u001b[?25hdone\n",
            "Requirement already satisfied: py4j==0.10.9.7 in /usr/local/lib/python3.10/dist-packages (from pyspark) (0.10.9.7)\n",
            "Building wheels for collected packages: pyspark\n",
            "  Building wheel for pyspark (setup.py) ... \u001b[?25l\u001b[?25hdone\n",
            "  Created wheel for pyspark: filename=pyspark-3.4.1-py2.py3-none-any.whl size=311285398 sha256=11c373f65a3013c767de187a5573149d1b498067c646100e4051346297fe06f2\n",
            "  Stored in directory: /root/.cache/pip/wheels/0d/77/a3/ff2f74cc9ab41f8f594dabf0579c2a7c6de920d584206e0834\n",
            "Successfully built pyspark\n",
            "Installing collected packages: pyspark\n",
            "Successfully installed pyspark-3.4.1\n"
          ]
        }
      ]
    },
    {
      "cell_type": "code",
      "execution_count": 2,
      "metadata": {
        "id": "Ay8dpAljs709"
      },
      "outputs": [],
      "source": [
        "from pyspark import SparkContext\n",
        "\n",
        "# Create the Spark context\n",
        "sc = SparkContext(\"local\", \"ShortestPath\")"
      ]
    },
    {
      "cell_type": "code",
      "source": [
        "# Definir la función de actualización del costo acumulado en los nodos\n",
        "def update_node_cost(node, cost):\n",
        "    if cost < node[1]:\n",
        "        return (node[0], cost)\n",
        "    else:\n",
        "        return node"
      ],
      "metadata": {
        "id": "NqbuTicbnVjr"
      },
      "execution_count": 8,
      "outputs": []
    },
    {
      "cell_type": "code",
      "source": [
        "# Nodo inicial indicado por el usuario\n",
        "initial_node = 1\n",
        "\n",
        "# RDD de aristas\n",
        "#edges = [(1, 2, 10), (2, 3, 3), (2, 4, 24), (3, 2, 1)]\n",
        "edges = [(1, 2, 5), (1, 4, 20), (2, 3, 10), (2, 4, 25), (4, 3, 10)]\n",
        "\n",
        "# Crear el RDD de aristas\n",
        "edges_rdd = sc.parallelize(edges)\n",
        "\n",
        "# Inicializar los nodos con costo acumulado infinito, excepto el nodo inicial\n",
        "nodes_rdd = edges_rdd.flatMap(lambda edge: [edge[0], edge[1]]).distinct().map(lambda node: (node, float('inf')))\n",
        "nodes_rdd = nodes_rdd.map(lambda node: (node[0], 0) if node[0] == initial_node else node)\n",
        "\n",
        "change = 0\n",
        "while True:\n",
        "  neighbors_rdd = edges_rdd.map(lambda edge: (edge[0], (edge[1], edge[2])))\n",
        "  joined_rdd = nodes_rdd.join(neighbors_rdd)\n",
        "\n",
        "  updated_rdd = joined_rdd.map(lambda x: (x[1][1][0], x[1][0] + x[1][1][1]))\n",
        "  nodes_rdd = nodes_rdd.union(updated_rdd).reduceByKey(lambda x, y: min(x, y)).map(lambda node: update_node_cost(node, node[1]))\n",
        "\n",
        "  changes = nodes_rdd.filter(lambda node: node[1] == float('inf')).count()\n",
        "\n",
        "  # Salir del bucle si no hay cambios en los costos de los nodos\n",
        "  if changes == change:\n",
        "      break\n",
        "  else:\n",
        "    change = changes\n",
        "\n",
        "\n",
        "result = nodes_rdd.collect()\n",
        "\n",
        "# Imprimir el resultado\n",
        "for node in result:\n",
        "    print(f\"Nodo: {node[0]}, Costo: {node[1]}\")"
      ],
      "metadata": {
        "colab": {
          "base_uri": "https://localhost:8080/"
        },
        "id": "YTT_v4NJQL11",
        "outputId": "c0d5c5d7-32ac-464a-d759-a046c2b0bf53"
      },
      "execution_count": 10,
      "outputs": [
        {
          "output_type": "stream",
          "name": "stdout",
          "text": [
            "Nodo: 1, Costo: 0\n",
            "Nodo: 2, Costo: 5\n",
            "Nodo: 3, Costo: 15\n",
            "Nodo: 4, Costo: 20\n"
          ]
        }
      ]
    }
  ]
}